{
 "cells": [
  {
   "cell_type": "markdown",
   "source": [
    "En vous basant sur les précédents travaux pratiques que vous avez effectués. Construire une application web interactive utilisant la librairie streamlit et une ou deux librairies de dataviz (matplotlib, seaborn, altair, bokeh et plotly).\n",
    "\n",
    "L'idée principale du projet est de choisir un jeu de données de data.gouv.fr et de construire une application web de dataviz pour répondre à des questions utiles sur ce jeu de données, en donnant à vos utilisateurs des informations utiles et la possibilité d'interagir avec les données.\n",
    "\n",
    "Le jeu de données que vous choisissez peut avoir un lien avec le thème de l'ESR, ce n'est pas obligatoire mais fortement recommandé. Voici le lien pour en savoir plus sur l'ESR : https://www.economie.gouv.fr/entreprises/responsabilite-societale-entreprises-rse\n",
    "\n",
    "## Directives techniques :\n",
    "L'application streamlit doit respecter les **exigences techniques** suivantes (vous les organisez comme vous le souhaitez, car le plus important est d'apporter des informations à vos utilisateurs) :\n",
    "- Tout le code doit être organisé en fonctions, si vous pouvez écrire des commentaires, c'est toujours mieux. Pensez à du code modulable, à des blocs de traitement de données, à des étapes de travail. Cela vous aidera à organiser votre code en fonctions modulaires.\n",
    "- 4 graphiques internes à streamlit : st.line, st.bar_chart, st.scatter_chart, st.map\n",
    "- 4 graphiques externes différents (histogrammes, diagrammes à barres, diagrammes de dispersion ou diagrammes circulaires) intégrés à votre application à partir de bibliothèques externes telles que matplotlib, seaborn, plotly ou Altair.\n",
    "- 4 éléments interactifs (case à cocher, curseur ....)\n",
    "- Utilisation du cache : cache pour le chargement et le pré-traitement des données\n",
    "- - Optionnel : un décorateur qui enregistre dans un fichier l'intervalle de temps d'exécution en secondes (30 secondes, 2 secondes, 0.01 seconde, ...) et l'horodatage de l'appel ()\n",
    "- - Facultatif : essayez d'organiser vos appels de fonctions dans une fonction principale afin d'avoir un flux de travail clair de votre application.\n",
    "\n",
    "**Gardez à l'esprit que l'idée est de fournir des informations utiles et de dessiner une histoire à propos de vos données. Vous devez donc prendre le temps d'explorer, de concevoir et d'organiser votre tableau de bord en choisissant les questions auxquelles vous voulez répondre et les informations que vous voulez présenter.**\n"
   ],
   "metadata": {
    "collapsed": false
   },
   "id": "a1161e421be78bb4"
  },
  {
   "cell_type": "code",
   "execution_count": 1,
   "id": "initial_id",
   "metadata": {
    "collapsed": true,
    "ExecuteTime": {
     "end_time": "2023-10-19T17:14:12.998071900Z",
     "start_time": "2023-10-19T17:14:12.600438200Z"
    }
   },
   "outputs": [
    {
     "name": "stdout",
     "output_type": "stream",
     "text": [
      "--- IMPORT DONE ---\n"
     ]
    }
   ],
   "source": [
    "import numpy as np\n",
    "import pandas as pd\n",
    "import seaborn as sns\n",
    "from sklearn.impute import SimpleImputer\n",
    "\n",
    "\n",
    "print(\"--- IMPORT DONE ---\")"
   ]
  },
  {
   "cell_type": "code",
   "execution_count": 5,
   "outputs": [
    {
     "data": {
      "text/plain": "                  date_heure        date  heure  \\\n0  2023-08-31T23:30:00+02:00  31/08/2023  23:30   \n1  2023-08-31T23:00:00+02:00  31/08/2023  23:00   \n2  2023-08-31T22:30:00+02:00  31/08/2023  22:30   \n3  2023-08-31T22:00:00+02:00  31/08/2023  22:00   \n4  2023-08-31T21:30:00+02:00  31/08/2023  21:30   \n\n   consommation_brute_gaz_grtgaz statut_grtgaz  consommation_brute_gaz_terega  \\\n0                            NaN           NaN                            NaN   \n1                        23599.0     Définitif                         1114.0   \n2                            NaN           NaN                            NaN   \n3                        24935.0     Définitif                         1181.0   \n4                            NaN           NaN                            NaN   \n\n  statut_terega  consommation_brute_gaz_totale  \\\n0           NaN                            NaN   \n1     Définitif                        24713.0   \n2           NaN                            NaN   \n3     Définitif                        26116.0   \n4           NaN                            NaN   \n\n   consommation_brute_electricite_rte statut_rte  consommation_brute_totale  \n0                               42710  Consolidé                        NaN  \n1                               43562  Consolidé                    68275.0  \n2                               44426  Consolidé                        NaN  \n3                               43430  Consolidé                    69546.0  \n4                               43281  Consolidé                        NaN  ",
      "text/html": "<div>\n<style scoped>\n    .dataframe tbody tr th:only-of-type {\n        vertical-align: middle;\n    }\n\n    .dataframe tbody tr th {\n        vertical-align: top;\n    }\n\n    .dataframe thead th {\n        text-align: right;\n    }\n</style>\n<table border=\"1\" class=\"dataframe\">\n  <thead>\n    <tr style=\"text-align: right;\">\n      <th></th>\n      <th>date_heure</th>\n      <th>date</th>\n      <th>heure</th>\n      <th>consommation_brute_gaz_grtgaz</th>\n      <th>statut_grtgaz</th>\n      <th>consommation_brute_gaz_terega</th>\n      <th>statut_terega</th>\n      <th>consommation_brute_gaz_totale</th>\n      <th>consommation_brute_electricite_rte</th>\n      <th>statut_rte</th>\n      <th>consommation_brute_totale</th>\n    </tr>\n  </thead>\n  <tbody>\n    <tr>\n      <th>0</th>\n      <td>2023-08-31T23:30:00+02:00</td>\n      <td>31/08/2023</td>\n      <td>23:30</td>\n      <td>NaN</td>\n      <td>NaN</td>\n      <td>NaN</td>\n      <td>NaN</td>\n      <td>NaN</td>\n      <td>42710</td>\n      <td>Consolidé</td>\n      <td>NaN</td>\n    </tr>\n    <tr>\n      <th>1</th>\n      <td>2023-08-31T23:00:00+02:00</td>\n      <td>31/08/2023</td>\n      <td>23:00</td>\n      <td>23599.0</td>\n      <td>Définitif</td>\n      <td>1114.0</td>\n      <td>Définitif</td>\n      <td>24713.0</td>\n      <td>43562</td>\n      <td>Consolidé</td>\n      <td>68275.0</td>\n    </tr>\n    <tr>\n      <th>2</th>\n      <td>2023-08-31T22:30:00+02:00</td>\n      <td>31/08/2023</td>\n      <td>22:30</td>\n      <td>NaN</td>\n      <td>NaN</td>\n      <td>NaN</td>\n      <td>NaN</td>\n      <td>NaN</td>\n      <td>44426</td>\n      <td>Consolidé</td>\n      <td>NaN</td>\n    </tr>\n    <tr>\n      <th>3</th>\n      <td>2023-08-31T22:00:00+02:00</td>\n      <td>31/08/2023</td>\n      <td>22:00</td>\n      <td>24935.0</td>\n      <td>Définitif</td>\n      <td>1181.0</td>\n      <td>Définitif</td>\n      <td>26116.0</td>\n      <td>43430</td>\n      <td>Consolidé</td>\n      <td>69546.0</td>\n    </tr>\n    <tr>\n      <th>4</th>\n      <td>2023-08-31T21:30:00+02:00</td>\n      <td>31/08/2023</td>\n      <td>21:30</td>\n      <td>NaN</td>\n      <td>NaN</td>\n      <td>NaN</td>\n      <td>NaN</td>\n      <td>NaN</td>\n      <td>43281</td>\n      <td>Consolidé</td>\n      <td>NaN</td>\n    </tr>\n  </tbody>\n</table>\n</div>"
     },
     "execution_count": 5,
     "metadata": {},
     "output_type": "execute_result"
    }
   ],
   "source": [
    "dataframe = pd.read_csv(\"C:\\Data\\Projet CODE\\Code Python\\Data Visualisation\\DataViz S7\\Project\\data\\gouv_data\\consommation-quotidienne-brute.csv\", delimiter=';')\n",
    "dataframe.head()"
   ],
   "metadata": {
    "collapsed": false,
    "ExecuteTime": {
     "end_time": "2023-10-19T17:14:33.483513Z",
     "start_time": "2023-10-19T17:14:33.247702100Z"
    }
   },
   "id": "a8b030f55b131dd3"
  },
  {
   "cell_type": "code",
   "execution_count": 3,
   "outputs": [
    {
     "data": {
      "text/plain": "date_heure                                 0\ndate                                       0\nheure                                      0\nconsommation_brute_gaz_grtgaz         103008\nstatut_grtgaz                         102264\nconsommation_brute_gaz_terega         102267\nstatut_terega                         102264\nconsommation_brute_gaz_totale         103012\nconsommation_brute_electricite_rte         0\nstatut_rte                                 0\nconsommation_brute_totale             103012\ndtype: int64"
     },
     "execution_count": 3,
     "metadata": {},
     "output_type": "execute_result"
    }
   ],
   "source": [
    "dataframe.isnull().sum()"
   ],
   "metadata": {
    "collapsed": false,
    "ExecuteTime": {
     "end_time": "2023-10-19T17:14:21.480398500Z",
     "start_time": "2023-10-19T17:14:21.443900600Z"
    }
   },
   "id": "3adeb680da976f9e"
  },
  {
   "cell_type": "code",
   "execution_count": 5,
   "outputs": [
    {
     "data": {
      "text/plain": "['date_heure',\n 'date',\n 'heure',\n 'consommation_brute_gaz_grtgaz',\n 'statut_grtgaz',\n 'consommation_brute_gaz_terega',\n 'statut_terega',\n 'consommation_brute_gaz_totale',\n 'consommation_brute_electricite_rte',\n 'statut_rte',\n 'consommation_brute_totale']"
     },
     "execution_count": 5,
     "metadata": {},
     "output_type": "execute_result"
    }
   ],
   "source": [
    "list_col = dataframe.columns.to_list()\n",
    "list_col"
   ],
   "metadata": {
    "collapsed": false,
    "ExecuteTime": {
     "end_time": "2023-10-17T14:44:23.720322600Z",
     "start_time": "2023-10-17T14:44:23.609666900Z"
    }
   },
   "id": "77c86b76be6dc306"
  },
  {
   "cell_type": "code",
   "execution_count": 6,
   "outputs": [],
   "source": [
    "# dataframe.head(200)"
   ],
   "metadata": {
    "collapsed": false,
    "ExecuteTime": {
     "end_time": "2023-10-17T14:44:23.721317600Z",
     "start_time": "2023-10-17T14:44:23.618151600Z"
    }
   },
   "id": "d6c98364241dec86"
  },
  {
   "cell_type": "code",
   "execution_count": 4,
   "outputs": [
    {
     "name": "stderr",
     "output_type": "stream",
     "text": [
      "C:\\Users\\freir\\AppData\\Local\\Temp\\ipykernel_2904\\4148266463.py:1: UserWarning: Parsing dates in %d/%m/%Y format when dayfirst=False (the default) was specified. Pass `dayfirst=True` or specify a format to silence this warning.\n",
      "  dataframe[['date', 'heure']] = dataframe[['date', 'heure']].apply(pd.to_datetime)\n",
      "C:\\Users\\freir\\AppData\\Local\\Temp\\ipykernel_2904\\4148266463.py:1: UserWarning: Could not infer format, so each element will be parsed individually, falling back to `dateutil`. To ensure parsing is consistent and as-expected, please specify a format.\n",
      "  dataframe[['date', 'heure']] = dataframe[['date', 'heure']].apply(pd.to_datetime)\n"
     ]
    }
   ],
   "source": [
    "dataframe[['date', 'heure']] = dataframe[['date', 'heure']].apply(pd.to_datetime)"
   ],
   "metadata": {
    "collapsed": false,
    "ExecuteTime": {
     "end_time": "2023-10-19T17:14:27.558648800Z",
     "start_time": "2023-10-19T17:14:27.508265500Z"
    }
   },
   "id": "41c2fe8f7d48b26e"
  },
  {
   "cell_type": "code",
   "execution_count": 8,
   "outputs": [
    {
     "data": {
      "text/plain": "date_heure                                    object\ndate                                  datetime64[ns]\nheure                                 datetime64[ns]\nconsommation_brute_gaz_grtgaz                float64\nstatut_grtgaz                                 object\nconsommation_brute_gaz_terega                float64\nstatut_terega                                 object\nconsommation_brute_gaz_totale                float64\nconsommation_brute_electricite_rte             int64\nstatut_rte                                    object\nconsommation_brute_totale                    float64\ndtype: object"
     },
     "execution_count": 8,
     "metadata": {},
     "output_type": "execute_result"
    }
   ],
   "source": [
    "dataframe.dtypes"
   ],
   "metadata": {
    "collapsed": false,
    "ExecuteTime": {
     "end_time": "2023-10-17T14:44:23.819462900Z",
     "start_time": "2023-10-17T14:44:23.747536600Z"
    }
   },
   "id": "2bf85fafeea0ad54"
  },
  {
   "cell_type": "code",
   "execution_count": 9,
   "outputs": [
    {
     "data": {
      "text/plain": "                                date                          heure  \\\ncount                         204528                         204528   \nmean   2017-10-30 23:59:58.732691968  2023-10-17 11:44:59.999999744   \nmin              2012-01-01 00:00:00            2023-10-17 00:00:00   \n25%              2014-12-01 00:00:00            2023-10-17 05:52:30   \n50%              2017-10-31 00:00:00            2023-10-17 11:45:00   \n75%              2020-09-30 00:00:00            2023-10-17 17:37:30   \nmax              2023-08-31 00:00:00            2023-10-17 23:30:00   \nstd                              NaN                            NaN   \n\n       consommation_brute_gaz_grtgaz  consommation_brute_gaz_terega  \\\ncount                  101520.000000                  102261.000000   \nmean                    49315.428507                    3133.306285   \nmin                       781.000000                     153.000000   \n25%                     26344.000000                    1336.000000   \n50%                     41633.500000                    2414.000000   \n75%                     69425.250000                    4596.000000   \nmax                    296157.000000                   13621.000000   \nstd                     26691.293571                    2121.834455   \n\n       consommation_brute_gaz_totale  consommation_brute_electricite_rte  \\\ncount                  101516.000000                       204528.000000   \nmean                    52439.624325                        53498.660042   \nmin                      1877.000000                        28738.000000   \n25%                     27712.000000                        44375.000000   \n50%                     44074.500000                        51722.000000   \n75%                     74056.000000                        61611.000000   \nmax                    297703.000000                       101866.000000   \nstd                     28741.978921                        11966.136059   \n\n       consommation_brute_totale  \ncount               101516.00000  \nmean                105879.17414  \nmin                  44104.00000  \n25%                  73511.00000  \n50%                  94097.00000  \n75%                 134888.25000  \nmax                 345991.00000  \nstd                  39489.74678  ",
      "text/html": "<div>\n<style scoped>\n    .dataframe tbody tr th:only-of-type {\n        vertical-align: middle;\n    }\n\n    .dataframe tbody tr th {\n        vertical-align: top;\n    }\n\n    .dataframe thead th {\n        text-align: right;\n    }\n</style>\n<table border=\"1\" class=\"dataframe\">\n  <thead>\n    <tr style=\"text-align: right;\">\n      <th></th>\n      <th>date</th>\n      <th>heure</th>\n      <th>consommation_brute_gaz_grtgaz</th>\n      <th>consommation_brute_gaz_terega</th>\n      <th>consommation_brute_gaz_totale</th>\n      <th>consommation_brute_electricite_rte</th>\n      <th>consommation_brute_totale</th>\n    </tr>\n  </thead>\n  <tbody>\n    <tr>\n      <th>count</th>\n      <td>204528</td>\n      <td>204528</td>\n      <td>101520.000000</td>\n      <td>102261.000000</td>\n      <td>101516.000000</td>\n      <td>204528.000000</td>\n      <td>101516.00000</td>\n    </tr>\n    <tr>\n      <th>mean</th>\n      <td>2017-10-30 23:59:58.732691968</td>\n      <td>2023-10-17 11:44:59.999999744</td>\n      <td>49315.428507</td>\n      <td>3133.306285</td>\n      <td>52439.624325</td>\n      <td>53498.660042</td>\n      <td>105879.17414</td>\n    </tr>\n    <tr>\n      <th>min</th>\n      <td>2012-01-01 00:00:00</td>\n      <td>2023-10-17 00:00:00</td>\n      <td>781.000000</td>\n      <td>153.000000</td>\n      <td>1877.000000</td>\n      <td>28738.000000</td>\n      <td>44104.00000</td>\n    </tr>\n    <tr>\n      <th>25%</th>\n      <td>2014-12-01 00:00:00</td>\n      <td>2023-10-17 05:52:30</td>\n      <td>26344.000000</td>\n      <td>1336.000000</td>\n      <td>27712.000000</td>\n      <td>44375.000000</td>\n      <td>73511.00000</td>\n    </tr>\n    <tr>\n      <th>50%</th>\n      <td>2017-10-31 00:00:00</td>\n      <td>2023-10-17 11:45:00</td>\n      <td>41633.500000</td>\n      <td>2414.000000</td>\n      <td>44074.500000</td>\n      <td>51722.000000</td>\n      <td>94097.00000</td>\n    </tr>\n    <tr>\n      <th>75%</th>\n      <td>2020-09-30 00:00:00</td>\n      <td>2023-10-17 17:37:30</td>\n      <td>69425.250000</td>\n      <td>4596.000000</td>\n      <td>74056.000000</td>\n      <td>61611.000000</td>\n      <td>134888.25000</td>\n    </tr>\n    <tr>\n      <th>max</th>\n      <td>2023-08-31 00:00:00</td>\n      <td>2023-10-17 23:30:00</td>\n      <td>296157.000000</td>\n      <td>13621.000000</td>\n      <td>297703.000000</td>\n      <td>101866.000000</td>\n      <td>345991.00000</td>\n    </tr>\n    <tr>\n      <th>std</th>\n      <td>NaN</td>\n      <td>NaN</td>\n      <td>26691.293571</td>\n      <td>2121.834455</td>\n      <td>28741.978921</td>\n      <td>11966.136059</td>\n      <td>39489.74678</td>\n    </tr>\n  </tbody>\n</table>\n</div>"
     },
     "execution_count": 9,
     "metadata": {},
     "output_type": "execute_result"
    }
   ],
   "source": [
    "dataframe.describe()"
   ],
   "metadata": {
    "collapsed": false,
    "ExecuteTime": {
     "end_time": "2023-10-17T14:44:23.898288400Z",
     "start_time": "2023-10-17T14:44:23.754677500Z"
    }
   },
   "id": "3589b0f72733b50"
  },
  {
   "cell_type": "code",
   "execution_count": 10,
   "outputs": [
    {
     "data": {
      "text/plain": "date_heure                            204528\ndate                                  204528\nheure                                 204528\nconsommation_brute_gaz_grtgaz         101520\nstatut_grtgaz                         102264\nconsommation_brute_gaz_terega         102261\nstatut_terega                         102264\nconsommation_brute_gaz_totale         101516\nconsommation_brute_electricite_rte    204528\nstatut_rte                            204528\nconsommation_brute_totale             101516\ndtype: int64"
     },
     "execution_count": 10,
     "metadata": {},
     "output_type": "execute_result"
    }
   ],
   "source": [
    "dataframe.count()"
   ],
   "metadata": {
    "collapsed": false,
    "ExecuteTime": {
     "end_time": "2023-10-17T14:44:23.919771600Z",
     "start_time": "2023-10-17T14:44:23.853436100Z"
    }
   },
   "id": "b2e4cafd372e2379"
  },
  {
   "cell_type": "code",
   "execution_count": 11,
   "outputs": [
    {
     "data": {
      "text/plain": "                  date_heure       date               heure  \\\n0  2023-08-31T23:30:00+02:00 2023-08-31 2023-10-17 23:30:00   \n1  2023-08-31T23:00:00+02:00 2023-08-31 2023-10-17 23:00:00   \n2  2023-08-31T22:30:00+02:00 2023-08-31 2023-10-17 22:30:00   \n3  2023-08-31T22:00:00+02:00 2023-08-31 2023-10-17 22:00:00   \n4  2023-08-31T21:30:00+02:00 2023-08-31 2023-10-17 21:30:00   \n\n   consommation_brute_gaz_grtgaz statut_grtgaz  consommation_brute_gaz_terega  \\\n0                            NaN           NaN                            NaN   \n1                        23599.0     Définitif                         1114.0   \n2                            NaN           NaN                            NaN   \n3                        24935.0     Définitif                         1181.0   \n4                            NaN           NaN                            NaN   \n\n  statut_terega  consommation_brute_gaz_totale  \\\n0           NaN                            NaN   \n1     Définitif                        24713.0   \n2           NaN                            NaN   \n3     Définitif                        26116.0   \n4           NaN                            NaN   \n\n   consommation_brute_electricite_rte statut_rte  consommation_brute_totale  \n0                               42710  Consolidé                        NaN  \n1                               43562  Consolidé                    68275.0  \n2                               44426  Consolidé                        NaN  \n3                               43430  Consolidé                    69546.0  \n4                               43281  Consolidé                        NaN  ",
      "text/html": "<div>\n<style scoped>\n    .dataframe tbody tr th:only-of-type {\n        vertical-align: middle;\n    }\n\n    .dataframe tbody tr th {\n        vertical-align: top;\n    }\n\n    .dataframe thead th {\n        text-align: right;\n    }\n</style>\n<table border=\"1\" class=\"dataframe\">\n  <thead>\n    <tr style=\"text-align: right;\">\n      <th></th>\n      <th>date_heure</th>\n      <th>date</th>\n      <th>heure</th>\n      <th>consommation_brute_gaz_grtgaz</th>\n      <th>statut_grtgaz</th>\n      <th>consommation_brute_gaz_terega</th>\n      <th>statut_terega</th>\n      <th>consommation_brute_gaz_totale</th>\n      <th>consommation_brute_electricite_rte</th>\n      <th>statut_rte</th>\n      <th>consommation_brute_totale</th>\n    </tr>\n  </thead>\n  <tbody>\n    <tr>\n      <th>0</th>\n      <td>2023-08-31T23:30:00+02:00</td>\n      <td>2023-08-31</td>\n      <td>2023-10-17 23:30:00</td>\n      <td>NaN</td>\n      <td>NaN</td>\n      <td>NaN</td>\n      <td>NaN</td>\n      <td>NaN</td>\n      <td>42710</td>\n      <td>Consolidé</td>\n      <td>NaN</td>\n    </tr>\n    <tr>\n      <th>1</th>\n      <td>2023-08-31T23:00:00+02:00</td>\n      <td>2023-08-31</td>\n      <td>2023-10-17 23:00:00</td>\n      <td>23599.0</td>\n      <td>Définitif</td>\n      <td>1114.0</td>\n      <td>Définitif</td>\n      <td>24713.0</td>\n      <td>43562</td>\n      <td>Consolidé</td>\n      <td>68275.0</td>\n    </tr>\n    <tr>\n      <th>2</th>\n      <td>2023-08-31T22:30:00+02:00</td>\n      <td>2023-08-31</td>\n      <td>2023-10-17 22:30:00</td>\n      <td>NaN</td>\n      <td>NaN</td>\n      <td>NaN</td>\n      <td>NaN</td>\n      <td>NaN</td>\n      <td>44426</td>\n      <td>Consolidé</td>\n      <td>NaN</td>\n    </tr>\n    <tr>\n      <th>3</th>\n      <td>2023-08-31T22:00:00+02:00</td>\n      <td>2023-08-31</td>\n      <td>2023-10-17 22:00:00</td>\n      <td>24935.0</td>\n      <td>Définitif</td>\n      <td>1181.0</td>\n      <td>Définitif</td>\n      <td>26116.0</td>\n      <td>43430</td>\n      <td>Consolidé</td>\n      <td>69546.0</td>\n    </tr>\n    <tr>\n      <th>4</th>\n      <td>2023-08-31T21:30:00+02:00</td>\n      <td>2023-08-31</td>\n      <td>2023-10-17 21:30:00</td>\n      <td>NaN</td>\n      <td>NaN</td>\n      <td>NaN</td>\n      <td>NaN</td>\n      <td>NaN</td>\n      <td>43281</td>\n      <td>Consolidé</td>\n      <td>NaN</td>\n    </tr>\n  </tbody>\n</table>\n</div>"
     },
     "execution_count": 11,
     "metadata": {},
     "output_type": "execute_result"
    }
   ],
   "source": [
    "dataframe.head()"
   ],
   "metadata": {
    "collapsed": false,
    "ExecuteTime": {
     "end_time": "2023-10-17T14:44:23.960913Z",
     "start_time": "2023-10-17T14:44:23.908808900Z"
    }
   },
   "id": "308f01bf8cf50550"
  },
  {
   "cell_type": "code",
   "execution_count": 6,
   "outputs": [],
   "source": [
    "dataframe = dataframe[1::2]"
   ],
   "metadata": {
    "collapsed": false,
    "ExecuteTime": {
     "end_time": "2023-10-19T17:14:49.229616800Z",
     "start_time": "2023-10-19T17:14:49.217788900Z"
    }
   },
   "id": "6cb9610bd1fec533"
  },
  {
   "cell_type": "code",
   "execution_count": 7,
   "outputs": [
    {
     "data": {
      "text/plain": "date_heure                              0\ndate                                    0\nheure                                   0\nconsommation_brute_gaz_grtgaz         780\nstatut_grtgaz                          84\nconsommation_brute_gaz_terega          39\nstatut_terega                          84\nconsommation_brute_gaz_totale         784\nconsommation_brute_electricite_rte      0\nstatut_rte                              0\nconsommation_brute_totale             784\ndtype: int64"
     },
     "execution_count": 7,
     "metadata": {},
     "output_type": "execute_result"
    }
   ],
   "source": [
    "dataframe.isnull().sum()"
   ],
   "metadata": {
    "collapsed": false,
    "ExecuteTime": {
     "end_time": "2023-10-19T17:14:51.577411100Z",
     "start_time": "2023-10-19T17:14:51.538767800Z"
    }
   },
   "id": "653d697fb558c0cf"
  },
  {
   "cell_type": "code",
   "execution_count": 14,
   "outputs": [
    {
     "data": {
      "text/plain": "                       date_heure       date               heure  \\\n7625    2023-03-26T03:30:00+02:00 2023-03-26 2023-10-17 03:30:00   \n11665   2022-12-31T23:00:00+01:00 2022-12-31 2023-10-17 23:00:00   \n11667   2022-12-31T22:00:00+01:00 2022-12-31 2023-10-17 22:00:00   \n11669   2022-12-31T21:00:00+01:00 2022-12-31 2023-10-17 21:00:00   \n11671   2022-12-31T20:00:00+01:00 2022-12-31 2023-10-17 20:00:00   \n...                           ...        ...                 ...   \n130265  2016-03-27T03:30:00+02:00 2016-03-27 2023-10-17 02:30:00   \n147737  2015-03-29T03:30:00+02:00 2015-03-29 2023-10-17 02:30:00   \n165209  2014-03-30T03:30:00+02:00 2014-03-30 2023-10-17 03:30:00   \n182681  2013-03-31T03:30:00+02:00 2013-03-31 2023-10-17 03:30:00   \n200489  2012-03-25T03:30:00+02:00 2012-03-25 2023-10-17 02:30:00   \n\n        consommation_brute_gaz_grtgaz statut_grtgaz  \\\n7625                              NaN           NaN   \n11665                             NaN     Définitif   \n11667                             NaN     Définitif   \n11669                             NaN     Définitif   \n11671                             NaN     Définitif   \n...                               ...           ...   \n130265                            NaN           NaN   \n147737                            NaN           NaN   \n165209                            NaN           NaN   \n182681                            NaN           NaN   \n200489                            NaN           NaN   \n\n        consommation_brute_gaz_terega statut_terega  \\\n7625                              NaN           NaN   \n11665                          2153.0     Définitif   \n11667                          2381.0     Définitif   \n11669                          2559.0     Définitif   \n11671                          2657.0     Définitif   \n...                               ...           ...   \n130265                            NaN           NaN   \n147737                            NaN           NaN   \n165209                            NaN           NaN   \n182681                            NaN           NaN   \n200489                            NaN           NaN   \n\n        consommation_brute_gaz_totale  consommation_brute_electricite_rte  \\\n7625                              NaN                               37351   \n11665                             NaN                               47566   \n11667                             NaN                               45841   \n11669                             NaN                               45898   \n11671                             NaN                               47840   \n...                               ...                                 ...   \n130265                            NaN                               52243   \n147737                            NaN                               52852   \n165209                            NaN                               47855   \n182681                            NaN                               62694   \n200489                            NaN                               47196   \n\n       statut_rte  consommation_brute_totale  \n7625    Consolidé                        NaN  \n11665   Définitif                        NaN  \n11667   Définitif                        NaN  \n11669   Définitif                        NaN  \n11671   Définitif                        NaN  \n...           ...                        ...  \n130265  Définitif                        NaN  \n147737  Définitif                        NaN  \n165209  Définitif                        NaN  \n182681  Définitif                        NaN  \n200489  Définitif                        NaN  \n\n[780 rows x 11 columns]",
      "text/html": "<div>\n<style scoped>\n    .dataframe tbody tr th:only-of-type {\n        vertical-align: middle;\n    }\n\n    .dataframe tbody tr th {\n        vertical-align: top;\n    }\n\n    .dataframe thead th {\n        text-align: right;\n    }\n</style>\n<table border=\"1\" class=\"dataframe\">\n  <thead>\n    <tr style=\"text-align: right;\">\n      <th></th>\n      <th>date_heure</th>\n      <th>date</th>\n      <th>heure</th>\n      <th>consommation_brute_gaz_grtgaz</th>\n      <th>statut_grtgaz</th>\n      <th>consommation_brute_gaz_terega</th>\n      <th>statut_terega</th>\n      <th>consommation_brute_gaz_totale</th>\n      <th>consommation_brute_electricite_rte</th>\n      <th>statut_rte</th>\n      <th>consommation_brute_totale</th>\n    </tr>\n  </thead>\n  <tbody>\n    <tr>\n      <th>7625</th>\n      <td>2023-03-26T03:30:00+02:00</td>\n      <td>2023-03-26</td>\n      <td>2023-10-17 03:30:00</td>\n      <td>NaN</td>\n      <td>NaN</td>\n      <td>NaN</td>\n      <td>NaN</td>\n      <td>NaN</td>\n      <td>37351</td>\n      <td>Consolidé</td>\n      <td>NaN</td>\n    </tr>\n    <tr>\n      <th>11665</th>\n      <td>2022-12-31T23:00:00+01:00</td>\n      <td>2022-12-31</td>\n      <td>2023-10-17 23:00:00</td>\n      <td>NaN</td>\n      <td>Définitif</td>\n      <td>2153.0</td>\n      <td>Définitif</td>\n      <td>NaN</td>\n      <td>47566</td>\n      <td>Définitif</td>\n      <td>NaN</td>\n    </tr>\n    <tr>\n      <th>11667</th>\n      <td>2022-12-31T22:00:00+01:00</td>\n      <td>2022-12-31</td>\n      <td>2023-10-17 22:00:00</td>\n      <td>NaN</td>\n      <td>Définitif</td>\n      <td>2381.0</td>\n      <td>Définitif</td>\n      <td>NaN</td>\n      <td>45841</td>\n      <td>Définitif</td>\n      <td>NaN</td>\n    </tr>\n    <tr>\n      <th>11669</th>\n      <td>2022-12-31T21:00:00+01:00</td>\n      <td>2022-12-31</td>\n      <td>2023-10-17 21:00:00</td>\n      <td>NaN</td>\n      <td>Définitif</td>\n      <td>2559.0</td>\n      <td>Définitif</td>\n      <td>NaN</td>\n      <td>45898</td>\n      <td>Définitif</td>\n      <td>NaN</td>\n    </tr>\n    <tr>\n      <th>11671</th>\n      <td>2022-12-31T20:00:00+01:00</td>\n      <td>2022-12-31</td>\n      <td>2023-10-17 20:00:00</td>\n      <td>NaN</td>\n      <td>Définitif</td>\n      <td>2657.0</td>\n      <td>Définitif</td>\n      <td>NaN</td>\n      <td>47840</td>\n      <td>Définitif</td>\n      <td>NaN</td>\n    </tr>\n    <tr>\n      <th>...</th>\n      <td>...</td>\n      <td>...</td>\n      <td>...</td>\n      <td>...</td>\n      <td>...</td>\n      <td>...</td>\n      <td>...</td>\n      <td>...</td>\n      <td>...</td>\n      <td>...</td>\n      <td>...</td>\n    </tr>\n    <tr>\n      <th>130265</th>\n      <td>2016-03-27T03:30:00+02:00</td>\n      <td>2016-03-27</td>\n      <td>2023-10-17 02:30:00</td>\n      <td>NaN</td>\n      <td>NaN</td>\n      <td>NaN</td>\n      <td>NaN</td>\n      <td>NaN</td>\n      <td>52243</td>\n      <td>Définitif</td>\n      <td>NaN</td>\n    </tr>\n    <tr>\n      <th>147737</th>\n      <td>2015-03-29T03:30:00+02:00</td>\n      <td>2015-03-29</td>\n      <td>2023-10-17 02:30:00</td>\n      <td>NaN</td>\n      <td>NaN</td>\n      <td>NaN</td>\n      <td>NaN</td>\n      <td>NaN</td>\n      <td>52852</td>\n      <td>Définitif</td>\n      <td>NaN</td>\n    </tr>\n    <tr>\n      <th>165209</th>\n      <td>2014-03-30T03:30:00+02:00</td>\n      <td>2014-03-30</td>\n      <td>2023-10-17 03:30:00</td>\n      <td>NaN</td>\n      <td>NaN</td>\n      <td>NaN</td>\n      <td>NaN</td>\n      <td>NaN</td>\n      <td>47855</td>\n      <td>Définitif</td>\n      <td>NaN</td>\n    </tr>\n    <tr>\n      <th>182681</th>\n      <td>2013-03-31T03:30:00+02:00</td>\n      <td>2013-03-31</td>\n      <td>2023-10-17 03:30:00</td>\n      <td>NaN</td>\n      <td>NaN</td>\n      <td>NaN</td>\n      <td>NaN</td>\n      <td>NaN</td>\n      <td>62694</td>\n      <td>Définitif</td>\n      <td>NaN</td>\n    </tr>\n    <tr>\n      <th>200489</th>\n      <td>2012-03-25T03:30:00+02:00</td>\n      <td>2012-03-25</td>\n      <td>2023-10-17 02:30:00</td>\n      <td>NaN</td>\n      <td>NaN</td>\n      <td>NaN</td>\n      <td>NaN</td>\n      <td>NaN</td>\n      <td>47196</td>\n      <td>Définitif</td>\n      <td>NaN</td>\n    </tr>\n  </tbody>\n</table>\n<p>780 rows × 11 columns</p>\n</div>"
     },
     "execution_count": 14,
     "metadata": {},
     "output_type": "execute_result"
    }
   ],
   "source": [
    "dataframe[dataframe['consommation_brute_gaz_grtgaz'].isna()]"
   ],
   "metadata": {
    "collapsed": false,
    "ExecuteTime": {
     "end_time": "2023-10-17T14:44:24.113592500Z",
     "start_time": "2023-10-17T14:44:23.965759200Z"
    }
   },
   "id": "fdf38f82a1b4f876"
  },
  {
   "cell_type": "code",
   "execution_count": 15,
   "outputs": [
    {
     "data": {
      "text/plain": "                                date                          heure  \\\ncount                         102264                         102264   \nmean   2017-10-30 23:59:57.465383680  2023-10-17 11:30:01.548932352   \nmin              2012-01-01 00:00:00            2023-10-17 00:00:00   \n25%              2014-12-01 00:00:00            2023-10-17 05:52:30   \n50%              2017-10-31 00:00:00            2023-10-17 11:45:00   \n75%              2020-09-30 00:00:00            2023-10-17 17:37:30   \nmax              2023-08-31 00:00:00            2023-10-17 23:30:00   \nstd                              NaN                            NaN   \n\n       consommation_brute_gaz_grtgaz  consommation_brute_gaz_terega  \\\ncount                  101484.000000                  102225.000000   \nmean                    49307.832900                    3132.782362   \nmin                       781.000000                     197.000000   \n25%                     26340.750000                    1336.000000   \n50%                     41620.500000                    2413.000000   \n75%                     69408.250000                    4595.000000   \nmax                    296157.000000                   13621.000000   \nstd                     26690.513758                    2121.785967   \n\n       consommation_brute_gaz_totale  consommation_brute_electricite_rte  \\\ncount                  101480.000000                       102264.000000   \nmean                    52431.497418                        53499.433926   \nmin                      1877.000000                        28738.000000   \n25%                     27710.000000                        44360.750000   \n50%                     44054.000000                        51725.500000   \n75%                     74034.250000                        61598.250000   \nmax                    297703.000000                       101866.000000   \nstd                     28741.146745                        11983.039721   \n\n       consommation_brute_totale  \ncount              101480.000000  \nmean               105868.888057  \nmin                 44104.000000  \n25%                 73505.750000  \n50%                 94071.000000  \n75%                134873.000000  \nmax                345991.000000  \nstd                 39489.427258  ",
      "text/html": "<div>\n<style scoped>\n    .dataframe tbody tr th:only-of-type {\n        vertical-align: middle;\n    }\n\n    .dataframe tbody tr th {\n        vertical-align: top;\n    }\n\n    .dataframe thead th {\n        text-align: right;\n    }\n</style>\n<table border=\"1\" class=\"dataframe\">\n  <thead>\n    <tr style=\"text-align: right;\">\n      <th></th>\n      <th>date</th>\n      <th>heure</th>\n      <th>consommation_brute_gaz_grtgaz</th>\n      <th>consommation_brute_gaz_terega</th>\n      <th>consommation_brute_gaz_totale</th>\n      <th>consommation_brute_electricite_rte</th>\n      <th>consommation_brute_totale</th>\n    </tr>\n  </thead>\n  <tbody>\n    <tr>\n      <th>count</th>\n      <td>102264</td>\n      <td>102264</td>\n      <td>101484.000000</td>\n      <td>102225.000000</td>\n      <td>101480.000000</td>\n      <td>102264.000000</td>\n      <td>101480.000000</td>\n    </tr>\n    <tr>\n      <th>mean</th>\n      <td>2017-10-30 23:59:57.465383680</td>\n      <td>2023-10-17 11:30:01.548932352</td>\n      <td>49307.832900</td>\n      <td>3132.782362</td>\n      <td>52431.497418</td>\n      <td>53499.433926</td>\n      <td>105868.888057</td>\n    </tr>\n    <tr>\n      <th>min</th>\n      <td>2012-01-01 00:00:00</td>\n      <td>2023-10-17 00:00:00</td>\n      <td>781.000000</td>\n      <td>197.000000</td>\n      <td>1877.000000</td>\n      <td>28738.000000</td>\n      <td>44104.000000</td>\n    </tr>\n    <tr>\n      <th>25%</th>\n      <td>2014-12-01 00:00:00</td>\n      <td>2023-10-17 05:52:30</td>\n      <td>26340.750000</td>\n      <td>1336.000000</td>\n      <td>27710.000000</td>\n      <td>44360.750000</td>\n      <td>73505.750000</td>\n    </tr>\n    <tr>\n      <th>50%</th>\n      <td>2017-10-31 00:00:00</td>\n      <td>2023-10-17 11:45:00</td>\n      <td>41620.500000</td>\n      <td>2413.000000</td>\n      <td>44054.000000</td>\n      <td>51725.500000</td>\n      <td>94071.000000</td>\n    </tr>\n    <tr>\n      <th>75%</th>\n      <td>2020-09-30 00:00:00</td>\n      <td>2023-10-17 17:37:30</td>\n      <td>69408.250000</td>\n      <td>4595.000000</td>\n      <td>74034.250000</td>\n      <td>61598.250000</td>\n      <td>134873.000000</td>\n    </tr>\n    <tr>\n      <th>max</th>\n      <td>2023-08-31 00:00:00</td>\n      <td>2023-10-17 23:30:00</td>\n      <td>296157.000000</td>\n      <td>13621.000000</td>\n      <td>297703.000000</td>\n      <td>101866.000000</td>\n      <td>345991.000000</td>\n    </tr>\n    <tr>\n      <th>std</th>\n      <td>NaN</td>\n      <td>NaN</td>\n      <td>26690.513758</td>\n      <td>2121.785967</td>\n      <td>28741.146745</td>\n      <td>11983.039721</td>\n      <td>39489.427258</td>\n    </tr>\n  </tbody>\n</table>\n</div>"
     },
     "execution_count": 15,
     "metadata": {},
     "output_type": "execute_result"
    }
   ],
   "source": [
    "dataframe.describe()"
   ],
   "metadata": {
    "collapsed": false,
    "ExecuteTime": {
     "end_time": "2023-10-17T14:44:24.150764Z",
     "start_time": "2023-10-17T14:44:23.997923Z"
    }
   },
   "id": "7e66f257fe576518"
  },
  {
   "cell_type": "code",
   "execution_count": 16,
   "outputs": [
    {
     "data": {
      "text/plain": "1         23599.0\n3         24935.0\n5         26360.0\n7         27466.0\n9         27928.0\n           ...   \n204519    53745.0\n204521    52836.0\n204523    52251.0\n204525    52236.0\n204527    52099.0\nName: consommation_brute_gaz_grtgaz, Length: 102264, dtype: float64"
     },
     "execution_count": 16,
     "metadata": {},
     "output_type": "execute_result"
    }
   ],
   "source": [
    "dataframe['consommation_brute_gaz_grtgaz'].fillna(41620.500000)"
   ],
   "metadata": {
    "collapsed": false,
    "ExecuteTime": {
     "end_time": "2023-10-17T14:44:24.191615100Z",
     "start_time": "2023-10-17T14:44:24.068845100Z"
    }
   },
   "id": "a78b12ab64661e50"
  },
  {
   "cell_type": "code",
   "execution_count": 17,
   "outputs": [
    {
     "data": {
      "text/plain": "780"
     },
     "execution_count": 17,
     "metadata": {},
     "output_type": "execute_result"
    }
   ],
   "source": [
    "dataframe['consommation_brute_gaz_grtgaz'].isnull().sum()"
   ],
   "metadata": {
    "collapsed": false,
    "ExecuteTime": {
     "end_time": "2023-10-17T14:44:24.224505900Z",
     "start_time": "2023-10-17T14:44:24.083803800Z"
    }
   },
   "id": "e65abd3a63461dfe"
  },
  {
   "cell_type": "code",
   "execution_count": 17,
   "outputs": [],
   "source": [],
   "metadata": {
    "collapsed": false,
    "ExecuteTime": {
     "end_time": "2023-10-17T14:44:24.225502900Z",
     "start_time": "2023-10-17T14:44:24.093158800Z"
    }
   },
   "id": "ea471481598e4421"
  },
  {
   "cell_type": "code",
   "execution_count": 17,
   "outputs": [],
   "source": [],
   "metadata": {
    "collapsed": false,
    "ExecuteTime": {
     "end_time": "2023-10-17T14:44:24.225502900Z",
     "start_time": "2023-10-17T14:44:24.096658700Z"
    }
   },
   "id": "b411aad4cc44788a"
  },
  {
   "cell_type": "code",
   "execution_count": 17,
   "outputs": [],
   "source": [],
   "metadata": {
    "collapsed": false,
    "ExecuteTime": {
     "end_time": "2023-10-17T14:44:24.225502900Z",
     "start_time": "2023-10-17T14:44:24.103376500Z"
    }
   },
   "id": "f7c155b51c1fb480"
  },
  {
   "cell_type": "code",
   "execution_count": 17,
   "outputs": [],
   "source": [],
   "metadata": {
    "collapsed": false,
    "ExecuteTime": {
     "end_time": "2023-10-17T14:44:24.227497500Z",
     "start_time": "2023-10-17T14:44:24.110091700Z"
    }
   },
   "id": "64e91153e1fa8108"
  },
  {
   "cell_type": "code",
   "execution_count": 17,
   "outputs": [],
   "source": [],
   "metadata": {
    "collapsed": false,
    "ExecuteTime": {
     "end_time": "2023-10-17T14:44:24.228526500Z",
     "start_time": "2023-10-17T14:44:24.114971Z"
    }
   },
   "id": "5c396f287b655d9d"
  },
  {
   "cell_type": "code",
   "execution_count": 17,
   "outputs": [],
   "source": [],
   "metadata": {
    "collapsed": false,
    "ExecuteTime": {
     "end_time": "2023-10-17T14:44:24.228526500Z",
     "start_time": "2023-10-17T14:44:24.119849900Z"
    }
   },
   "id": "602a81225c571063"
  }
 ],
 "metadata": {
  "kernelspec": {
   "display_name": "Python 3",
   "language": "python",
   "name": "python3"
  },
  "language_info": {
   "codemirror_mode": {
    "name": "ipython",
    "version": 2
   },
   "file_extension": ".py",
   "mimetype": "text/x-python",
   "name": "python",
   "nbconvert_exporter": "python",
   "pygments_lexer": "ipython2",
   "version": "2.7.6"
  }
 },
 "nbformat": 4,
 "nbformat_minor": 5
}
